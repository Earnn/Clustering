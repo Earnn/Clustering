{
 "cells": [
  {
   "cell_type": "code",
   "execution_count": 7,
   "metadata": {},
   "outputs": [
    {
     "data": {
      "text/plain": [
       "295"
      ]
     },
     "execution_count": 7,
     "metadata": {},
     "output_type": "execute_result"
    }
   ],
   "source": [
    "import numpy as np # linear algebra\n",
    "import pandas as pd # data processing, CSV file I/O (e.g. pd.read_csv)\n",
    "from sklearn.decomposition import PCA # Principal Component Analysis module\n",
    "from sklearn.cluster import KMeans # KMeans clustering \n",
    "import matplotlib.pyplot as plt # Python defacto plotting library\n",
    "import seaborn as sns # More snazzy plotting library\n",
    "%matplotlib inline \n",
    "df = pd.read_csv('order_csv2.csv') # reads the csv and creates the dataframe called movie\n",
    "df.tail()\n",
    "len(df)"
   ]
  },
  {
   "cell_type": "code",
   "execution_count": 8,
   "metadata": {},
   "outputs": [
    {
     "name": "stdout",
     "output_type": "stream",
     "text": [
      "<class 'pandas.core.frame.DataFrame'>\n"
     ]
    }
   ],
   "source": [
    "# df_value = pd.DataFrame(df['user_id'].value_counts())\n",
    "# df_value\n",
    "# df_group = pd.DataFrame(columns = ['amount_of_order',])\n",
    "\n",
    "d = {'amount_of_order': df['user_id'].value_counts(), }\n",
    "df_value_temp = pd.DataFrame(data=d)\n",
    "df_value_temp\n",
    "df_value = pd.DataFrame(columns = ['userid','amount_of_order','value'])\n",
    "\n",
    "print(type(df_value_temp))\n",
    "for index, row in df_value_temp.iterrows():\n",
    "#     print(type(row['amount_of_order']))\n",
    "    value = \"\"\n",
    "    if row['amount_of_order'] >= 50 and row['amount_of_order'] <= 79:\n",
    "        value = \"Gold\"\n",
    "    elif row['amount_of_order'] >= 11 and row['amount_of_order'] <= 49:\n",
    "        value = \"Silver\"\n",
    "    elif row['amount_of_order'] >= 0 and row['amount_of_order'] <= 10:\n",
    "        value = \"Bronze\"\n",
    "        \n",
    "    df_value.loc[len(df_value)] = [index,row['amount_of_order'],value]\n",
    "    "
   ]
  },
  {
   "cell_type": "code",
   "execution_count": 9,
   "metadata": {},
   "outputs": [
    {
     "data": {
      "text/html": [
       "<div>\n",
       "<style scoped>\n",
       "    .dataframe tbody tr th:only-of-type {\n",
       "        vertical-align: middle;\n",
       "    }\n",
       "\n",
       "    .dataframe tbody tr th {\n",
       "        vertical-align: top;\n",
       "    }\n",
       "\n",
       "    .dataframe thead th {\n",
       "        text-align: right;\n",
       "    }\n",
       "</style>\n",
       "<table border=\"1\" class=\"dataframe\">\n",
       "  <thead>\n",
       "    <tr style=\"text-align: right;\">\n",
       "      <th></th>\n",
       "      <th>userid</th>\n",
       "      <th>amount_of_order</th>\n",
       "      <th>value_Bronze</th>\n",
       "      <th>value_Silver</th>\n",
       "    </tr>\n",
       "  </thead>\n",
       "  <tbody>\n",
       "    <tr>\n",
       "      <th>0</th>\n",
       "      <td>54</td>\n",
       "      <td>21</td>\n",
       "      <td>0</td>\n",
       "      <td>1</td>\n",
       "    </tr>\n",
       "    <tr>\n",
       "      <th>1</th>\n",
       "      <td>255</td>\n",
       "      <td>19</td>\n",
       "      <td>0</td>\n",
       "      <td>1</td>\n",
       "    </tr>\n",
       "    <tr>\n",
       "      <th>2</th>\n",
       "      <td>46</td>\n",
       "      <td>15</td>\n",
       "      <td>0</td>\n",
       "      <td>1</td>\n",
       "    </tr>\n",
       "    <tr>\n",
       "      <th>3</th>\n",
       "      <td>142</td>\n",
       "      <td>14</td>\n",
       "      <td>0</td>\n",
       "      <td>1</td>\n",
       "    </tr>\n",
       "    <tr>\n",
       "      <th>4</th>\n",
       "      <td>223</td>\n",
       "      <td>12</td>\n",
       "      <td>0</td>\n",
       "      <td>1</td>\n",
       "    </tr>\n",
       "  </tbody>\n",
       "</table>\n",
       "</div>"
      ],
      "text/plain": [
       "  userid amount_of_order  value_Bronze  value_Silver\n",
       "0     54              21             0             1\n",
       "1    255              19             0             1\n",
       "2     46              15             0             1\n",
       "3    142              14             0             1\n",
       "4    223              12             0             1"
      ]
     },
     "execution_count": 9,
     "metadata": {},
     "output_type": "execute_result"
    }
   ],
   "source": [
    "# df_dummies.head()\n",
    "# df_value.head()\n",
    "df_dummies = pd.get_dummies(df_value, columns=['value'])\n",
    "df_dummies.head()"
   ]
  },
  {
   "cell_type": "code",
   "execution_count": 10,
   "metadata": {},
   "outputs": [
    {
     "data": {
      "text/plain": [
       "<matplotlib.collections.PathCollection at 0x107c4deb8>"
      ]
     },
     "execution_count": 10,
     "metadata": {},
     "output_type": "execute_result"
    },
    {
     "data": {
      "image/png": "[encoded data removed]",
      "text/plain": [
       "<matplotlib.figure.Figure at 0x114856c88>"
      ]
     },
     "metadata": {},
     "output_type": "display_data"
    }
   ],
   "source": [
    "from sklearn import decomposition\n",
    "pca = decomposition.PCA(n_components=2)\n",
    "\n",
    "pca.fit(df_dummies[['value_Bronze','value_Silver']])\n",
    "\n",
    "X = pca.transform(df_dummies[['value_Bronze','value_Silver']])\n",
    "import pylab as pl\n",
    "pl.scatter(X[:, 0], X[:, 1]) "
   ]
  },
  {
   "cell_type": "code",
   "execution_count": 11,
   "metadata": {},
   "outputs": [
    {
     "name": "stdout",
     "output_type": "stream",
     "text": [
      "cost: 60212.57720588236\n"
     ]
    }
   ],
   "source": [
    "kmeans_model = KMeans(n_clusters=3, random_state=1).fit(df_dummies.iloc[:, :])\n",
    " \n",
    "        # These are our fitted labels for clusters -- the first cluster has label 0, and the second has label 1.\n",
    "labels = kmeans_model.labels_\n",
    "        \n",
    "# Sum of distances of samples to their closest cluster center\n",
    "interia = kmeans_model.inertia_\n",
    "print ( \"cost:\", interia)"
   ]
  },
  {
   "cell_type": "code",
   "execution_count": 12,
   "metadata": {},
   "outputs": [
    {
     "data": {
      "text/plain": [
       "datetime.datetime(2018, 5, 11, 1, 39, 34, 961121)"
      ]
     },
     "execution_count": 12,
     "metadata": {},
     "output_type": "execute_result"
    }
   ],
   "source": [
    "import datetime\n",
    "\n",
    "datetime.date.today()  # Returns 2018-01-15\n",
    "\n",
    "datetime.datetime.now() # Returns 2018-01-15 09:00"
   ]
  },
  {
   "cell_type": "code",
   "execution_count": 65,
   "metadata": {},
   "outputs": [],
   "source": [
    "# df['created_at']\n",
    "df['created_at'] = pd.to_datetime(df[\"created_at\"])\n",
    "df['created_at']=df['created_at'].dt.tz_localize('UTC').dt.tz_convert('Asia/Bangkok')\n",
    "df['created_at']\n",
    "df_time = pd.to_datetime(df[\"created_at\"])\n",
    "\n",
    "\n",
    "# dates = df_time.value_counts().keys().tolist()\n",
    "# order_dates = pd.to_datetime(dates, format='%d/%b/%Y:%H:%M:%S')\n",
    "# # print(type(ourdates))\n",
    "# list_dates = []\n",
    "# for i in order_dates:\n",
    "#     e =  i.strftime('%Y-%m-%d %H:%M:%S')\n",
    "#     list_dates.append(e)\n",
    "# list_dates"
   ]
  },
  {
   "cell_type": "code",
   "execution_count": 14,
   "metadata": {},
   "outputs": [],
   "source": [
    "from datetime import date,timedelta\n",
    "import datetime\n",
    "list_disappear_days = []\n",
    "date_del = datetime.datetime.now() - timedelta(days=0)\n",
    "for i in range(len(df_time)):\n",
    "    cvtz = df_time[i].replace(tzinfo=None)\n",
    "    time_length = date_del - cvtz\n",
    "    \n",
    "    list_disappear_days.append(time_length.days)\n",
    "\n",
    "    \n",
    "    \n",
    "    \n",
    "    #     print(df_time[i])\n",
    "#     df_time\n",
    "# last = Order.objects.filter(user__id=i['user']).order_by('-created_at')\n",
    "#         # print(\"datetime.now()\",datetime.now())\n",
    "# cvtz = last[0].created_at.replace(tzinfo=None)\n",
    "#         # print(datetime.now() - cvtz)\n",
    "\n",
    "# list_disappear_days\n"
   ]
  },
  {
   "cell_type": "code",
   "execution_count": 66,
   "metadata": {},
   "outputs": [
    {
     "data": {
      "text/plain": [
       "datetime.datetime(2018, 5, 11, 2, 8, 0, 122324)"
      ]
     },
     "execution_count": 66,
     "metadata": {},
     "output_type": "execute_result"
    }
   ],
   "source": [
    " datetime.datetime.now()"
   ]
  },
  {
   "cell_type": "code",
   "execution_count": 16,
   "metadata": {},
   "outputs": [
    {
     "data": {
      "text/plain": [
       "Timestamp('2018-05-08 14:02:38.350996')"
      ]
     },
     "execution_count": 16,
     "metadata": {},
     "output_type": "execute_result"
    }
   ],
   "source": [
    "date_del\n",
    "cvtz = df_time[len(df_time)-1].replace(tzinfo=None)\n",
    "cvtz"
   ]
  },
  {
   "cell_type": "code",
   "execution_count": 17,
   "metadata": {},
   "outputs": [
    {
     "data": {
      "text/plain": [
       "Timedelta('2 days 11:36:56.641498')"
      ]
     },
     "execution_count": 17,
     "metadata": {},
     "output_type": "execute_result"
    }
   ],
   "source": [
    "time_length = date_del - cvtz\n",
    "time_length"
   ]
  },
  {
   "cell_type": "code",
   "execution_count": 18,
   "metadata": {},
   "outputs": [
    {
     "data": {
      "text/plain": [
       "2"
      ]
     },
     "execution_count": 18,
     "metadata": {},
     "output_type": "execute_result"
    }
   ],
   "source": [
    "time_length.days"
   ]
  },
  {
   "cell_type": "code",
   "execution_count": 19,
   "metadata": {},
   "outputs": [
    {
     "data": {
      "text/plain": [
       "295"
      ]
     },
     "execution_count": 19,
     "metadata": {},
     "output_type": "execute_result"
    }
   ],
   "source": [
    "# df.groupby('month')['date'].count()\n",
    "len(df)"
   ]
  },
  {
   "cell_type": "code",
   "execution_count": 67,
   "metadata": {},
   "outputs": [
    {
     "data": {
      "text/plain": [
       "Timestamp('2018-03-27 12:38:48.992842+0700', tz='Asia/Bangkok')"
      ]
     },
     "execution_count": 67,
     "metadata": {},
     "output_type": "execute_result"
    }
   ],
   "source": [
    "df.sort_values(by=['user_id'])\n",
    "temp = df[df['user_id'] ==1]\n",
    "len(temp)\n",
    "# print(temp)\n",
    "temp['created_at'][7]"
   ]
  },
  {
   "cell_type": "code",
   "execution_count": 68,
   "metadata": {},
   "outputs": [
    {
     "data": {
      "text/html": [
       "<div>\n",
       "<style scoped>\n",
       "    .dataframe tbody tr th:only-of-type {\n",
       "        vertical-align: middle;\n",
       "    }\n",
       "\n",
       "    .dataframe tbody tr th {\n",
       "        vertical-align: top;\n",
       "    }\n",
       "\n",
       "    .dataframe thead th {\n",
       "        text-align: right;\n",
       "    }\n",
       "</style>\n",
       "<table border=\"1\" class=\"dataframe\">\n",
       "  <thead>\n",
       "    <tr style=\"text-align: right;\">\n",
       "      <th></th>\n",
       "      <th>id</th>\n",
       "      <th>menu</th>\n",
       "      <th>amount</th>\n",
       "      <th>date</th>\n",
       "      <th>address</th>\n",
       "      <th>total</th>\n",
       "      <th>phone_number</th>\n",
       "      <th>slip_payment</th>\n",
       "      <th>delivery_charge</th>\n",
       "      <th>payment_method</th>\n",
       "      <th>coupon</th>\n",
       "      <th>created_at</th>\n",
       "      <th>store_id</th>\n",
       "      <th>user_id</th>\n",
       "      <th>morethings</th>\n",
       "      <th>status</th>\n",
       "      <th>isSuccess</th>\n",
       "    </tr>\n",
       "  </thead>\n",
       "  <tbody>\n",
       "    <tr>\n",
       "      <th>119</th>\n",
       "      <td>220</td>\n",
       "      <td>{244,246,367}</td>\n",
       "      <td>{1,1,1}</td>\n",
       "      <td>2018-03-17 11:27:53.904428+00</td>\n",
       "      <td>หอ C7</td>\n",
       "      <td>75</td>\n",
       "      <td>\"Nonesfsdf\"</td>\n",
       "      <td>NaN</td>\n",
       "      <td>10</td>\n",
       "      <td>จ่ายเงินปลายทาง</td>\n",
       "      <td>NaN</td>\n",
       "      <td>2018-03-17 18:27:53.904961+07:00</td>\n",
       "      <td>1</td>\n",
       "      <td>1</td>\n",
       "      <td>NaN</td>\n",
       "      <td>กำลังส่ง</td>\n",
       "      <td>t</td>\n",
       "    </tr>\n",
       "    <tr>\n",
       "      <th>92</th>\n",
       "      <td>224</td>\n",
       "      <td>{364}</td>\n",
       "      <td>{1}</td>\n",
       "      <td>2018-03-18 09:55:20.175009+00</td>\n",
       "      <td>หอ C1</td>\n",
       "      <td>124</td>\n",
       "      <td>\"Noneadasd\"</td>\n",
       "      <td>NaN</td>\n",
       "      <td>25</td>\n",
       "      <td>NaN</td>\n",
       "      <td>NaN</td>\n",
       "      <td>2018-03-18 16:55:20.175978+07:00</td>\n",
       "      <td>24</td>\n",
       "      <td>1</td>\n",
       "      <td>NaN</td>\n",
       "      <td>รับออเดอร์</td>\n",
       "      <td>f</td>\n",
       "    </tr>\n",
       "    <tr>\n",
       "      <th>193</th>\n",
       "      <td>282</td>\n",
       "      <td>{233,426}</td>\n",
       "      <td>{1,1}</td>\n",
       "      <td>2018-03-27 03:15:52.564273+00</td>\n",
       "      <td>หอ C4</td>\n",
       "      <td>65</td>\n",
       "      <td>\"Nonezczxcz\"</td>\n",
       "      <td>NaN</td>\n",
       "      <td>10</td>\n",
       "      <td>จ่ายเงินปลายทาง</td>\n",
       "      <td>DC0001</td>\n",
       "      <td>2018-03-27 10:15:52.565968+07:00</td>\n",
       "      <td>25</td>\n",
       "      <td>1</td>\n",
       "      <td>zxc</td>\n",
       "      <td>รับออเดอร์</td>\n",
       "      <td>t</td>\n",
       "    </tr>\n",
       "    <tr>\n",
       "      <th>195</th>\n",
       "      <td>283</td>\n",
       "      <td>{461,226}</td>\n",
       "      <td>{1,1}</td>\n",
       "      <td>2018-03-27 04:03:57.443493+00</td>\n",
       "      <td>หอ C5</td>\n",
       "      <td>70</td>\n",
       "      <td>\"sdfNone\"</td>\n",
       "      <td>NaN</td>\n",
       "      <td>10</td>\n",
       "      <td>จ่ายเงินปลายทาง</td>\n",
       "      <td>DC0001</td>\n",
       "      <td>2018-03-27 11:03:57.444783+07:00</td>\n",
       "      <td>25</td>\n",
       "      <td>1</td>\n",
       "      <td>s</td>\n",
       "      <td>รับออเดอร์</td>\n",
       "      <td>t</td>\n",
       "    </tr>\n",
       "    <tr>\n",
       "      <th>196</th>\n",
       "      <td>284</td>\n",
       "      <td>{367,243,366}</td>\n",
       "      <td>{1,1,1}</td>\n",
       "      <td>2018-03-27 04:05:22.184858+00</td>\n",
       "      <td>หอ E5</td>\n",
       "      <td>76</td>\n",
       "      <td>\"asdNone\"</td>\n",
       "      <td>NaN</td>\n",
       "      <td>10</td>\n",
       "      <td>จ่ายเงินปลายทาง</td>\n",
       "      <td>NaN</td>\n",
       "      <td>2018-03-27 11:05:22.185410+07:00</td>\n",
       "      <td>25</td>\n",
       "      <td>1</td>\n",
       "      <td>NaN</td>\n",
       "      <td>รับออเดอร์</td>\n",
       "      <td>t</td>\n",
       "    </tr>\n",
       "    <tr>\n",
       "      <th>203</th>\n",
       "      <td>297</td>\n",
       "      <td>{433,431}</td>\n",
       "      <td>{1,1}</td>\n",
       "      <td>2018-03-27 05:30:46.377561+00</td>\n",
       "      <td>หอ B3</td>\n",
       "      <td>55</td>\n",
       "      <td>\"sdadNone\"</td>\n",
       "      <td>NaN</td>\n",
       "      <td>20</td>\n",
       "      <td>จ่ายเงินปลายทาง</td>\n",
       "      <td>DC0001</td>\n",
       "      <td>2018-03-27 12:30:46.400868+07:00</td>\n",
       "      <td>25</td>\n",
       "      <td>1</td>\n",
       "      <td>NaN</td>\n",
       "      <td>รับออเดอร์</td>\n",
       "      <td>t</td>\n",
       "    </tr>\n",
       "    <tr>\n",
       "      <th>7</th>\n",
       "      <td>298</td>\n",
       "      <td>{\"('345', '354', '359')\"}</td>\n",
       "      <td>{1}</td>\n",
       "      <td>2018-03-27 05:38:48.991127+00</td>\n",
       "      <td>หอ E1</td>\n",
       "      <td>159</td>\n",
       "      <td>\"Noneadfa\"</td>\n",
       "      <td>slip_payment/2018/03/27/person_8VOfTJ1.png</td>\n",
       "      <td>25</td>\n",
       "      <td>พร้อมเพย์</td>\n",
       "      <td>DC0001</td>\n",
       "      <td>2018-03-27 12:38:48.992842+07:00</td>\n",
       "      <td>24</td>\n",
       "      <td>1</td>\n",
       "      <td>NaN</td>\n",
       "      <td>รับออเดอร์</td>\n",
       "      <td>t</td>\n",
       "    </tr>\n",
       "  </tbody>\n",
       "</table>\n",
       "</div>"
      ],
      "text/plain": [
       "      id                       menu   amount                           date  \\\n",
       "119  220              {244,246,367}  {1,1,1}  2018-03-17 11:27:53.904428+00   \n",
       "92   224                      {364}      {1}  2018-03-18 09:55:20.175009+00   \n",
       "193  282                  {233,426}    {1,1}  2018-03-27 03:15:52.564273+00   \n",
       "195  283                  {461,226}    {1,1}  2018-03-27 04:03:57.443493+00   \n",
       "196  284              {367,243,366}  {1,1,1}  2018-03-27 04:05:22.184858+00   \n",
       "203  297                  {433,431}    {1,1}  2018-03-27 05:30:46.377561+00   \n",
       "7    298  {\"('345', '354', '359')\"}      {1}  2018-03-27 05:38:48.991127+00   \n",
       "\n",
       "    address  total  phone_number                                slip_payment  \\\n",
       "119   หอ C7     75   \"Nonesfsdf\"                                         NaN   \n",
       "92    หอ C1    124   \"Noneadasd\"                                         NaN   \n",
       "193   หอ C4     65  \"Nonezczxcz\"                                         NaN   \n",
       "195   หอ C5     70     \"sdfNone\"                                         NaN   \n",
       "196   หอ E5     76     \"asdNone\"                                         NaN   \n",
       "203   หอ B3     55    \"sdadNone\"                                         NaN   \n",
       "7     หอ E1    159    \"Noneadfa\"  slip_payment/2018/03/27/person_8VOfTJ1.png   \n",
       "\n",
       "     delivery_charge   payment_method  coupon  \\\n",
       "119               10  จ่ายเงินปลายทาง     NaN   \n",
       "92                25              NaN     NaN   \n",
       "193               10  จ่ายเงินปลายทาง  DC0001   \n",
       "195               10  จ่ายเงินปลายทาง  DC0001   \n",
       "196               10  จ่ายเงินปลายทาง     NaN   \n",
       "203               20  จ่ายเงินปลายทาง  DC0001   \n",
       "7                 25        พร้อมเพย์  DC0001   \n",
       "\n",
       "                          created_at  store_id  user_id morethings  \\\n",
       "119 2018-03-17 18:27:53.904961+07:00         1        1        NaN   \n",
       "92  2018-03-18 16:55:20.175978+07:00        24        1        NaN   \n",
       "193 2018-03-27 10:15:52.565968+07:00        25        1        zxc   \n",
       "195 2018-03-27 11:03:57.444783+07:00        25        1          s   \n",
       "196 2018-03-27 11:05:22.185410+07:00        25        1        NaN   \n",
       "203 2018-03-27 12:30:46.400868+07:00        25        1        NaN   \n",
       "7   2018-03-27 12:38:48.992842+07:00        24        1        NaN   \n",
       "\n",
       "         status isSuccess  \n",
       "119    กำลังส่ง         t  \n",
       "92   รับออเดอร์         f  \n",
       "193  รับออเดอร์         t  \n",
       "195  รับออเดอร์         t  \n",
       "196  รับออเดอร์         t  \n",
       "203  รับออเดอร์         t  \n",
       "7    รับออเดอร์         t  "
      ]
     },
     "execution_count": 68,
     "metadata": {},
     "output_type": "execute_result"
    }
   ],
   "source": [
    "a = temp.sort_values(by=['created_at'])\n",
    "a"
   ]
  },
  {
   "cell_type": "code",
   "execution_count": 70,
   "metadata": {},
   "outputs": [],
   "source": [
    "from datetime import date,timedelta\n",
    "import datetime\n",
    "\n",
    "list_disappear_days = []\n",
    "date_del = datetime.datetime.now() - timedelta(days=0)\n",
    "\n",
    "\n",
    "for index, row in df_dummies.iterrows():\n",
    "#     print(row['userid'])\n",
    "#     print(df['user_id'])\n",
    "#     print(df_dummies)\n",
    "    temp = df[df['user_id'] ==row['userid']]\n",
    "    a = temp.sort_values(by=['created_at'])\n",
    "#     print(len(a))\n",
    "#     print(a)\n",
    "    dates = a['created_at'][len(a)-1]\n",
    "\n",
    "    cvtz = dates.replace(tzinfo=None)\n",
    "    time_length = date_del - cvtz\n",
    "    list_disappear_days.append(time_length.days)\n",
    "\n",
    "    \n",
    "    \n",
    "\n",
    "#     row['userid']\n",
    "#     print(row['userid'])\n",
    "# list_disappear_days"
   ]
  },
  {
   "cell_type": "code",
   "execution_count": 71,
   "metadata": {},
   "outputs": [],
   "source": [
    "df_dummies['days_disappear'] = list_disappear_days"
   ]
  },
  {
   "cell_type": "code",
   "execution_count": 72,
   "metadata": {},
   "outputs": [
    {
     "data": {
      "text/html": [
       "<div>\n",
       "<style scoped>\n",
       "    .dataframe tbody tr th:only-of-type {\n",
       "        vertical-align: middle;\n",
       "    }\n",
       "\n",
       "    .dataframe tbody tr th {\n",
       "        vertical-align: top;\n",
       "    }\n",
       "\n",
       "    .dataframe thead th {\n",
       "        text-align: right;\n",
       "    }\n",
       "</style>\n",
       "<table border=\"1\" class=\"dataframe\">\n",
       "  <thead>\n",
       "    <tr style=\"text-align: right;\">\n",
       "      <th></th>\n",
       "      <th>userid</th>\n",
       "      <th>amount_of_order</th>\n",
       "      <th>value_Bronze</th>\n",
       "      <th>value_Silver</th>\n",
       "      <th>days_disappear</th>\n",
       "    </tr>\n",
       "  </thead>\n",
       "  <tbody>\n",
       "    <tr>\n",
       "      <th>0</th>\n",
       "      <td>54</td>\n",
       "      <td>21</td>\n",
       "      <td>0</td>\n",
       "      <td>1</td>\n",
       "      <td>13</td>\n",
       "    </tr>\n",
       "    <tr>\n",
       "      <th>1</th>\n",
       "      <td>255</td>\n",
       "      <td>19</td>\n",
       "      <td>0</td>\n",
       "      <td>1</td>\n",
       "      <td>2</td>\n",
       "    </tr>\n",
       "    <tr>\n",
       "      <th>2</th>\n",
       "      <td>46</td>\n",
       "      <td>15</td>\n",
       "      <td>0</td>\n",
       "      <td>1</td>\n",
       "      <td>4</td>\n",
       "    </tr>\n",
       "    <tr>\n",
       "      <th>3</th>\n",
       "      <td>142</td>\n",
       "      <td>14</td>\n",
       "      <td>0</td>\n",
       "      <td>1</td>\n",
       "      <td>10</td>\n",
       "    </tr>\n",
       "    <tr>\n",
       "      <th>4</th>\n",
       "      <td>223</td>\n",
       "      <td>12</td>\n",
       "      <td>0</td>\n",
       "      <td>1</td>\n",
       "      <td>2</td>\n",
       "    </tr>\n",
       "  </tbody>\n",
       "</table>\n",
       "</div>"
      ],
      "text/plain": [
       "  userid amount_of_order  value_Bronze  value_Silver  days_disappear\n",
       "0     54              21             0             1              13\n",
       "1    255              19             0             1               2\n",
       "2     46              15             0             1               4\n",
       "3    142              14             0             1              10\n",
       "4    223              12             0             1               2"
      ]
     },
     "execution_count": 72,
     "metadata": {},
     "output_type": "execute_result"
    }
   ],
   "source": [
    "df_dummies.head()"
   ]
  },
  {
   "cell_type": "code",
   "execution_count": 73,
   "metadata": {},
   "outputs": [],
   "source": [
    "# risk_list = []\n",
    "\n",
    "# for index, row in df_dummies.iterrows():\n",
    "#     risk = -1\n",
    "#     if row['amount_of_order'] >=21:\n",
    "#         if row['days_disappear'] >= 7 and row['days_disappear'] < 10:\n",
    "#             risk = 0\n",
    "#         elif row['days_disappear'] >= 10 and row['days_disappear'] < 14:\n",
    "#             risk = 1\n",
    "#         elif row['days_disappear'] >= 14:\n",
    "#             risk = 2\n",
    "#     if row['amount_of_order'] >=14 and row['amount_of_order'] < 21 :\n",
    "#         if row['days_disappear'] >= 5 and row['days_disappear'] < 8:\n",
    "#             risk = 0\n",
    "#         elif row['days_disappear'] >= 8 and row['days_disappear'] < 12:\n",
    "#             risk = 1\n",
    "#         elif row['days_disappear'] >= 12:\n",
    "#             risk = 2\n",
    "#     if row['amount_of_order'] >=1 and row['amount_of_order'] < 14 :\n",
    "#         if row['days_disappear'] >= 3 and row['days_disappear'] < 6:\n",
    "#             risk = 0\n",
    "#         elif row['days_disappear'] >= 6 and row['days_disappear'] < 9:\n",
    "#             risk = 1\n",
    "#         elif row['days_disappear'] >= 9:\n",
    "#             risk = 2\n",
    "#     risk_list.append(risk)\n",
    "# # risk_list"
   ]
  },
  {
   "cell_type": "code",
   "execution_count": 74,
   "metadata": {},
   "outputs": [],
   "source": [
    "# df_dummies['risk_level'] = risk_list"
   ]
  },
  {
   "cell_type": "code",
   "execution_count": 75,
   "metadata": {},
   "outputs": [
    {
     "data": {
      "text/html": [
       "<div>\n",
       "<style scoped>\n",
       "    .dataframe tbody tr th:only-of-type {\n",
       "        vertical-align: middle;\n",
       "    }\n",
       "\n",
       "    .dataframe tbody tr th {\n",
       "        vertical-align: top;\n",
       "    }\n",
       "\n",
       "    .dataframe thead th {\n",
       "        text-align: right;\n",
       "    }\n",
       "</style>\n",
       "<table border=\"1\" class=\"dataframe\">\n",
       "  <thead>\n",
       "    <tr style=\"text-align: right;\">\n",
       "      <th></th>\n",
       "      <th>userid</th>\n",
       "      <th>amount_of_order</th>\n",
       "      <th>value_Bronze</th>\n",
       "      <th>value_Silver</th>\n",
       "      <th>days_disappear</th>\n",
       "    </tr>\n",
       "  </thead>\n",
       "  <tbody>\n",
       "    <tr>\n",
       "      <th>0</th>\n",
       "      <td>54</td>\n",
       "      <td>21</td>\n",
       "      <td>0</td>\n",
       "      <td>1</td>\n",
       "      <td>13</td>\n",
       "    </tr>\n",
       "    <tr>\n",
       "      <th>1</th>\n",
       "      <td>255</td>\n",
       "      <td>19</td>\n",
       "      <td>0</td>\n",
       "      <td>1</td>\n",
       "      <td>2</td>\n",
       "    </tr>\n",
       "    <tr>\n",
       "      <th>2</th>\n",
       "      <td>46</td>\n",
       "      <td>15</td>\n",
       "      <td>0</td>\n",
       "      <td>1</td>\n",
       "      <td>4</td>\n",
       "    </tr>\n",
       "    <tr>\n",
       "      <th>3</th>\n",
       "      <td>142</td>\n",
       "      <td>14</td>\n",
       "      <td>0</td>\n",
       "      <td>1</td>\n",
       "      <td>10</td>\n",
       "    </tr>\n",
       "    <tr>\n",
       "      <th>4</th>\n",
       "      <td>223</td>\n",
       "      <td>12</td>\n",
       "      <td>0</td>\n",
       "      <td>1</td>\n",
       "      <td>2</td>\n",
       "    </tr>\n",
       "  </tbody>\n",
       "</table>\n",
       "</div>"
      ],
      "text/plain": [
       "  userid amount_of_order  value_Bronze  value_Silver  days_disappear\n",
       "0     54              21             0             1              13\n",
       "1    255              19             0             1               2\n",
       "2     46              15             0             1               4\n",
       "3    142              14             0             1              10\n",
       "4    223              12             0             1               2"
      ]
     },
     "execution_count": 75,
     "metadata": {},
     "output_type": "execute_result"
    }
   ],
   "source": [
    "df_dummies.head()"
   ]
  },
  {
   "cell_type": "code",
   "execution_count": null,
   "metadata": {},
   "outputs": [],
   "source": [
    "def kmeansshow(k,X):\n",
    "\n",
    "    from sklearn import cluster\n",
    "    from matplotlib import pyplot\n",
    "    import numpy as np\n",
    "\n",
    "    kmeans = cluster.KMeans(n_clusters=k)\n",
    "    kmeans.fit(X)\n",
    "\n",
    "    labels = kmeans.labels_\n",
    "    centroids = kmeans.cluster_centers_\n",
    "    #print centroids\n",
    "\n",
    "    for i in range(k):\n",
    "        # select only data observations with cluster label == i\n",
    "        ds = X[np.where(labels==i)]\n",
    "        # plot the data observations\n",
    "        pyplot.plot(ds[:,0],ds[:,1],'o')\n",
    "        # plot the centroids\n",
    "        lines = pyplot.plot(centroids[i,0],centroids[i,1],'kx')\n",
    "        make the centroid x's bigger\n",
    "        pyplot.setp(lines,ms=15.0)\n",
    "        pyplot.setp(lines,mew=2.0)\n",
    "    pyplot.show()\n",
    "    return centroids"
   ]
  },
  {
   "cell_type": "code",
   "execution_count": null,
   "metadata": {},
   "outputs": [],
   "source": [
    "f1 = df_dummies['value_Bronze'].values\n",
    "f2 = df_dummies['value_Silver'].values\n",
    "f3 = df_dummies['risk_level'].values\n",
    "kmeansshow(3,df_dummies[['days_disappear', 'value_Silver']].values)\n"
   ]
  },
  {
   "cell_type": "code",
   "execution_count": null,
   "metadata": {},
   "outputs": [],
   "source": [
    "# Set a 3 KMeans clustering\n",
    "kmeans = KMeans(n_clusters=3)\n",
    "# Compute cluster centers and predict cluster indices\n",
    "X = df_dummies[['value_Silver', 'risk_level']].values\n",
    "# print(X)\n",
    "# f1 = df_dummies[].\n",
    "# X = np.array(list(zip(f4,f5)))\n",
    "from sklearn.preprocessing import StandardScaler\n",
    "X_std = StandardScaler().fit_transform(X)\n",
    "X_clustered = kmeans.fit_predict(X_std)\n",
    "# Define our own color map\n",
    "LABEL_COLOR_MAP = {0 : 'r',1 : 'g',2 : 'b'}\n",
    "label_color = [LABEL_COLOR_MAP[l] for l in X_clustered]\n",
    "\n",
    "# Plot the scatter digram\n",
    "plt.figure(figsize = (7,7))\n",
    "plt.scatter(X_std[:,0],X_std[:,1], c= label_color, alpha=0.5) \n",
    "plt.show()\n",
    "\n"
   ]
  },
  {
   "cell_type": "code",
   "execution_count": null,
   "metadata": {},
   "outputs": [],
   "source": []
  },
  {
   "cell_type": "code",
   "execution_count": 87,
   "metadata": {},
   "outputs": [
    {
     "data": {
      "image/png": "[encoded data removed]",
      "text/plain": [
       "<matplotlib.figure.Figure at 0x1153804a8>"
      ]
     },
     "metadata": {},
     "output_type": "display_data"
    },
    {
     "name": "stdout",
     "output_type": "stream",
     "text": [
      "[[ 32.5819876    0.15364961]\n",
      " [-23.53122947  -0.10884528]\n",
      " [  8.72106655   0.03726682]]\n"
     ]
    }
   ],
   "source": [
    "\n",
    "\n",
    "X = df_dummies[['days_disappear', 'amount_of_order']].values\n",
    "pca = PCA(n_components=2)\n",
    "x_9d = pca.fit_transform(X)\n",
    "\n",
    "# Set a 3 KMeans clustering\n",
    "# kmeans = KMeans(n_clusters=2)\n",
    "kmeans = KMeans(n_clusters=3).fit(x_9d)\n",
    "# Compute cluster centers and predict cluster indices\n",
    "X_clustered = kmeans.fit_predict(x_9d)\n",
    "\n",
    "# Define our own color map\n",
    "LABEL_COLOR_MAP = {0 : 'r',1 : 'g',2 : 'b',3 : 'y'}\n",
    "label_color = [LABEL_COLOR_MAP[l] for l in X_clustered]\n",
    "labels = kmeans.labels_\n",
    "centroids = kmeans.cluster_centers_\n",
    "\n",
    "# Plot the scatter digram\n",
    "# plt.figure(figsize = (7,7))\n",
    "# plt.xlabel('Size')\n",
    "# plt.ylabel('Eat Breakfast')\n",
    "# plt.scatter(x_9d[:,0],x_9d[:,1], c = kmeans.labels_, cmap='rainbow')  \n",
    "\n",
    "for i in range(3):\n",
    "        # select only data observations with cluster label == i\n",
    "        ds = x_9d[np.where(labels==i)]\n",
    "        # plot the data observations\n",
    "        plt.plot(ds[:,0],ds[:,1],'o')\n",
    "        # plot the centroids\n",
    "        lines = plt.plot(centroids[i,0],centroids[i,1],'kx')\n",
    "#         make the centroid x's bigger\n",
    "        plt.setp(lines,ms=12.0)\n",
    "        plt.setp(lines,mew=2.0)\n",
    "plt.show()\n",
    "print(centroids)\n",
    "# plt.show()"
   ]
  },
  {
   "cell_type": "code",
   "execution_count": 102,
   "metadata": {},
   "outputs": [
    {
     "data": {
      "image/png": "[encoded data removed]",
      "text/plain": [
       "<matplotlib.figure.Figure at 0x115864128>"
      ]
     },
     "metadata": {},
     "output_type": "display_data"
    },
    {
     "name": "stdout",
     "output_type": "stream",
     "text": [
      "[[41.5         2.86363636]\n",
      " [ 9.325       5.1       ]\n",
      " [65.30434783  1.2173913 ]]\n"
     ]
    }
   ],
   "source": [
    "X = df_dummies[['days_disappear', 'amount_of_order']].values\n",
    "kmeans = KMeans(n_clusters=3)\n",
    "# Compute cluster centers and predict cluster indices\n",
    "X_clustered = kmeans.fit_predict(X)\n",
    "\n",
    "# Define our own color map\n",
    "LABEL_COLOR_MAP = {0 : 'r',1 : 'g',2 : 'b',3 : 'y'}\n",
    "label_color = [LABEL_COLOR_MAP[l] for l in X_clustered]\n",
    "labels = kmeans.labels_\n",
    "centroids = kmeans.cluster_centers_\n",
    "\n",
    "# Plot the scatter digram\n",
    "# plt.figure(figsize = (7,7))\n",
    "# plt.xlabel('Size')\n",
    "# plt.ylabel('Eat Breakfast')\n",
    "# plt.scatter(x_9d[:,0],x_9d[:,1], c = kmeans.labels_, cmap='rainbow')  \n",
    "\n",
    "for i in range(3):\n",
    "        # select only data observations with cluster label == i\n",
    "        ds = X[np.where(labels==i)]\n",
    "        # plot the data observations\n",
    "        plt.plot(ds[:,0],ds[:,1],'o')\n",
    "        # plot the centroids\n",
    "        lines = plt.plot(centroids[i,0],centroids[i,1],'kx')\n",
    "#         make the centroid x's bigger\n",
    "        plt.setp(lines,ms=12.0)\n",
    "        plt.setp(lines,mew=2.0)\n",
    "plt.show()\n",
    "print(centroids)\n",
    "# plt.show()"
   ]
  },
  {
   "cell_type": "code",
   "execution_count": 106,
   "metadata": {},
   "outputs": [],
   "source": [
    "df_dummies['clustering'] = labels\n",
    "df_dummies.head()\n",
    "df_dummies.to_csv('value_at_risk.csv', encoding='utf-8', index=False)"
   ]
  },
  {
   "cell_type": "code",
   "execution_count": 98,
   "metadata": {},
   "outputs": [
    {
     "name": "stderr",
     "output_type": "stream",
     "text": [
      "/Library/Frameworks/Python.framework/Versions/3.6/lib/python3.6/site-packages/sklearn/utils/validation.py:475: DataConversionWarning: Data with input dtype object was converted to float64 by StandardScaler.\n",
      "  warnings.warn(msg, DataConversionWarning)\n"
     ]
    },
    {
     "data": {
      "image/png": "[encoded data removed]",
      "text/plain": [
       "<matplotlib.figure.Figure at 0x1158b8c88>"
      ]
     },
     "metadata": {},
     "output_type": "display_data"
    },
    {
     "name": "stdout",
     "output_type": "stream",
     "text": [
      "[[-0.73383972 -0.1994553 ]\n",
      " [ 1.01499931 -0.43388331]\n",
      " [-0.96690653  2.36329838]]\n"
     ]
    }
   ],
   "source": [
    "X = df_dummies[['days_disappear', 'amount_of_order']].values\n",
    "kmeans = KMeans(n_clusters=3)\n",
    "X = StandardScaler().fit_transform(X)\n",
    "\n",
    "# Compute cluster centers and predict cluster indices\n",
    "X_clustered = kmeans.fit_predict(X)\n",
    "\n",
    "# Define our own color map\n",
    "LABEL_COLOR_MAP = {0 : 'r',1 : 'g',2 : 'b',3 : 'y'}\n",
    "label_color = [LABEL_COLOR_MAP[l] for l in X_clustered]\n",
    "labels = kmeans.labels_\n",
    "centroids = kmeans.cluster_centers_\n",
    "\n",
    "# Plot the scatter digram\n",
    "# plt.figure(figsize = (7,7))\n",
    "# plt.xlabel('Size')\n",
    "# plt.ylabel('Eat Breakfast')\n",
    "# plt.scatter(x_9d[:,0],x_9d[:,1], c = kmeans.labels_, cmap='rainbow')  \n",
    "\n",
    "for i in range(3):\n",
    "        # select only data observations with cluster label == i\n",
    "        ds = X[np.where(labels==i)]\n",
    "        # plot the data observations\n",
    "        plt.plot(ds[:,0],ds[:,1],'o')\n",
    "        # plot the centroids\n",
    "        lines = plt.plot(centroids[i,0],centroids[i,1],'kx')\n",
    "#         make the centroid x's bigger\n",
    "        plt.setp(lines,ms=12.0)\n",
    "        plt.setp(lines,mew=2.0)\n",
    "plt.show()\n",
    "print(centroids)\n",
    "# plt.show()"
   ]
  },
  {
   "cell_type": "code",
   "execution_count": 101,
   "metadata": {},
   "outputs": [
    {
     "data": {
      "text/plain": [
       "array([-1, -1, -1, -1, -1, -1, -1, -1, -1, -1, -1, -1, -1, -1,  0, -1, -1,\n",
       "       -1,  0,  0, -1,  0,  0,  0,  0, -1,  0,  0,  0,  0, -1,  0, -1,  0,\n",
       "        0,  0, -1,  0,  1, -1, -1,  0,  0, -1,  0,  1,  0,  1,  1, -1,  1,\n",
       "        1,  1,  1,  1, -1,  0,  1,  1,  0,  0,  0,  0,  0, -1, -1, -1,  1,\n",
       "        1,  1,  1,  1,  1,  1,  1,  1,  1,  1,  1,  0,  1,  1,  1,  1,  1])"
      ]
     },
     "execution_count": 101,
     "metadata": {},
     "output_type": "execute_result"
    }
   ],
   "source": [
    "labels"
   ]
  },
  {
   "cell_type": "code",
   "execution_count": 100,
   "metadata": {},
   "outputs": [
    {
     "name": "stderr",
     "output_type": "stream",
     "text": [
      "/Library/Frameworks/Python.framework/Versions/3.6/lib/python3.6/site-packages/sklearn/utils/validation.py:475: DataConversionWarning: Data with input dtype object was converted to float64 by StandardScaler.\n",
      "  warnings.warn(msg, DataConversionWarning)\n"
     ]
    },
    {
     "name": "stdout",
     "output_type": "stream",
     "text": [
      "2\n",
      "Estimated number of clusters: 2\n",
      "Silhouette Coefficient: 0.426\n"
     ]
    },
    {
     "data": {
      "image/png": "[encoded data removed]",
      "text/plain": [
       "<matplotlib.figure.Figure at 0x116601588>"
      ]
     },
     "metadata": {},
     "output_type": "display_data"
    }
   ],
   "source": [
    "import numpy as np\n",
    "\n",
    "from sklearn.cluster import DBSCAN\n",
    "from sklearn import metrics\n",
    "from sklearn.datasets.samples_generator import make_blobs\n",
    "from sklearn.preprocessing import StandardScaler\n",
    "\n",
    "\n",
    "# X = np.array(list(zip(f5,f6,f7,f17)))\n",
    "X = df_dummies[['days_disappear', 'amount_of_order']].values\n",
    "X = StandardScaler().fit_transform(X)\n",
    "\n",
    "# X = np.array(list(zip(f1,f8,f9,f10,f11,f12,f13,f14,f15)))\n",
    "# X = df2['age'].values\n",
    "# print(X)\n",
    "# X, labels_true = make_blobs(X, centers=centers, cluster_std=0.4,random_state=0)\n",
    "# X = StandardScaler().fit_transform(X)\n",
    "\n",
    "db = DBSCAN(eps=0.3, min_samples=10).fit(X)\n",
    "# print(db)\n",
    "core_samples_mask = np.zeros_like(db.labels_, dtype=bool)\n",
    "# print(core_samples_mask)\n",
    "core_samples_mask[db.core_sample_indices_] = True\n",
    "# print(core_samples_mask)\n",
    "labels = db.labels_\n",
    "\n",
    "n_clusters_ = len(set(labels)) - (1 if -1 in labels else 0)\n",
    "print(n_clusters_)\n",
    "\n",
    "print('Estimated number of clusters: %d' % n_clusters_)\n",
    "print(\"Silhouette Coefficient: %0.3f\"\n",
    "      % metrics.silhouette_score(X, labels))\n",
    "\n",
    "# #############################################################################\n",
    "# Plot result\n",
    "import matplotlib.pyplot as plt\n",
    "plt.figure(figsize=(15,5))\n",
    "\n",
    "# Black removed and is used for noise instead.\n",
    "unique_labels = set(labels)\n",
    "colors = [plt.cm.Spectral(each)\n",
    "          for each in np.linspace(0, 1, len(unique_labels))]\n",
    "for k, col in zip(unique_labels, colors):\n",
    "    if k == -1:\n",
    "        # Black used for noise.\n",
    "        col = [0, 0, 0, 1]\n",
    "\n",
    "    class_member_mask = (labels == k)\n",
    "\n",
    "    xy = X[class_member_mask & core_samples_mask]\n",
    "    plt.plot(xy[:, 0], xy[:, 1], 'o', markerfacecolor=tuple(col),\n",
    "             markeredgecolor='k', markersize=14)\n",
    "\n",
    "    xy = X[class_member_mask & ~core_samples_mask]\n",
    "    plt.plot(xy[:, 0], xy[:, 1], 'o', markerfacecolor=tuple(col),\n",
    "             markeredgecolor='k', markersize=6)\n",
    "\n",
    "plt.title('Estimated number of clusters: %d' % n_clusters_)\n",
    "plt.show()\n"
   ]
  },
  {
   "cell_type": "code",
   "execution_count": null,
   "metadata": {},
   "outputs": [],
   "source": [
    "mport numpy as np\n",
    "from kmodes.kmodes import KModes\n",
    "\n",
    "\n",
    "# km = KModes(n_clusters=4, init='Huang', n_init=5, verbose=1)\n",
    "\n",
    "clusters = km.fit_predict(df6)\n",
    "\n",
    "# Print the cluster centroids\n",
    "print(km.cluster_centroids_)\n",
    "\n",
    "# df_dummy = pd.get_dummies(df6)\n",
    "# df_dummy\n",
    "#transform into numpy array\n",
    "x = df6.reset_index().values\n",
    "\n",
    "km = kmodes.KModes(n_clusters=5, init='Huang', n_init=5, verbose=0)\n",
    "clusters = km.fit_predict(x)\n",
    "df6['clusters'] = clusters\n",
    "\n",
    "\n",
    "from sklearn.decomposition import PCA\n",
    "pca = PCA(2)\n",
    "\n",
    "# Turn the dummified df into two columns with PCA\n",
    "plot_columns = pca.fit_transform(df6.ix[:,0:12])\n",
    "\n",
    "# Plot based on the two dimensions, and shade by cluster label\n",
    "plt.scatter(x=plot_columns[:,1], y=plot_columns[:,0], c=df6[\"clusters\"], s=30)\n",
    "plt.show()"
   ]
  }
 ],
 "metadata": {
  "kernelspec": {
   "display_name": "Python 3",
   "language": "python",
   "name": "python3"
  },
  "language_info": {
   "codemirror_mode": {
    "name": "ipython",
    "version": 3
   },
   "file_extension": ".py",
   "mimetype": "text/x-python",
   "name": "python",
   "nbconvert_exporter": "python",
   "pygments_lexer": "ipython3",
   "version": "3.6.4"
  }
 },
 "nbformat": 4,
 "nbformat_minor": 2
}
