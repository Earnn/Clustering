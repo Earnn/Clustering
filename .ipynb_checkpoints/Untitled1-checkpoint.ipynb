{
 "cells": [
  {
   "cell_type": "code",
   "execution_count": 44,
   "metadata": {},
   "outputs": [
    {
     "data": {
      "text/plain": [
       "295"
      ]
     },
     "execution_count": 44,
     "metadata": {},
     "output_type": "execute_result"
    }
   ],
   "source": [
    "import numpy as np # linear algebra\n",
    "import pandas as pd # data processing, CSV file I/O (e.g. pd.read_csv)\n",
    "from sklearn.decomposition import PCA # Principal Component Analysis module\n",
    "from sklearn.cluster import KMeans # KMeans clustering \n",
    "import matplotlib.pyplot as plt # Python defacto plotting library\n",
    "import seaborn as sns # More snazzy plotting library\n",
    "%matplotlib inline \n",
    "df = pd.read_csv('order_csv2.csv') # reads the csv and creates the dataframe called movie\n",
    "df.tail()\n",
    "len(df)"
   ]
  },
  {
   "cell_type": "code",
   "execution_count": 45,
   "metadata": {},
   "outputs": [
    {
     "name": "stdout",
     "output_type": "stream",
     "text": [
      "<class 'pandas.core.frame.DataFrame'>\n"
     ]
    }
   ],
   "source": [
    "# df_value = pd.DataFrame(df['user_id'].value_counts())\n",
    "# df_value\n",
    "# df_group = pd.DataFrame(columns = ['amount_of_order',])\n",
    "\n",
    "d = {'amount_of_order': df['user_id'].value_counts(), }\n",
    "df_value_temp = pd.DataFrame(data=d)\n",
    "df_value_temp\n",
    "df_value = pd.DataFrame(columns = ['userid','amount_of_order','value'])\n",
    "\n",
    "print(type(df_value_temp))\n",
    "for index, row in df_value_temp.iterrows():\n",
    "#     print(type(row['amount_of_order']))\n",
    "    value = \"\"\n",
    "    if row['amount_of_order'] >= 50 and row['amount_of_order'] <= 79:\n",
    "        value = \"Gold\"\n",
    "    elif row['amount_of_order'] >= 11 and row['amount_of_order'] <= 49:\n",
    "        value = \"Silver\"\n",
    "    elif row['amount_of_order'] >= 0 and row['amount_of_order'] <= 10:\n",
    "        value = \"Bronze\"\n",
    "        \n",
    "    df_value.loc[len(df_value)] = [index,row['amount_of_order'],value]\n",
    "    "
   ]
  },
  {
   "cell_type": "code",
   "execution_count": 46,
   "metadata": {},
   "outputs": [
    {
     "data": {
      "text/html": [
       "<div>\n",
       "<style scoped>\n",
       "    .dataframe tbody tr th:only-of-type {\n",
       "        vertical-align: middle;\n",
       "    }\n",
       "\n",
       "    .dataframe tbody tr th {\n",
       "        vertical-align: top;\n",
       "    }\n",
       "\n",
       "    .dataframe thead th {\n",
       "        text-align: right;\n",
       "    }\n",
       "</style>\n",
       "<table border=\"1\" class=\"dataframe\">\n",
       "  <thead>\n",
       "    <tr style=\"text-align: right;\">\n",
       "      <th></th>\n",
       "      <th>userid</th>\n",
       "      <th>amount_of_order</th>\n",
       "      <th>value_Bronze</th>\n",
       "      <th>value_Silver</th>\n",
       "    </tr>\n",
       "  </thead>\n",
       "  <tbody>\n",
       "    <tr>\n",
       "      <th>0</th>\n",
       "      <td>54</td>\n",
       "      <td>21</td>\n",
       "      <td>0</td>\n",
       "      <td>1</td>\n",
       "    </tr>\n",
       "    <tr>\n",
       "      <th>1</th>\n",
       "      <td>255</td>\n",
       "      <td>19</td>\n",
       "      <td>0</td>\n",
       "      <td>1</td>\n",
       "    </tr>\n",
       "    <tr>\n",
       "      <th>2</th>\n",
       "      <td>46</td>\n",
       "      <td>15</td>\n",
       "      <td>0</td>\n",
       "      <td>1</td>\n",
       "    </tr>\n",
       "    <tr>\n",
       "      <th>3</th>\n",
       "      <td>142</td>\n",
       "      <td>14</td>\n",
       "      <td>0</td>\n",
       "      <td>1</td>\n",
       "    </tr>\n",
       "    <tr>\n",
       "      <th>4</th>\n",
       "      <td>223</td>\n",
       "      <td>12</td>\n",
       "      <td>0</td>\n",
       "      <td>1</td>\n",
       "    </tr>\n",
       "  </tbody>\n",
       "</table>\n",
       "</div>"
      ],
      "text/plain": [
       "  userid amount_of_order  value_Bronze  value_Silver\n",
       "0     54              21             0             1\n",
       "1    255              19             0             1\n",
       "2     46              15             0             1\n",
       "3    142              14             0             1\n",
       "4    223              12             0             1"
      ]
     },
     "execution_count": 46,
     "metadata": {},
     "output_type": "execute_result"
    }
   ],
   "source": [
    "df_dummies = df_value \n",
    "df_dummies = pd.get_dummies(df_dummies, columns=['value'])\n",
    "df_dummies.head()"
   ]
  },
  {
   "cell_type": "code",
   "execution_count": 51,
   "metadata": {},
   "outputs": [
    {
     "data": {
      "text/plain": [
       "<matplotlib.collections.PathCollection at 0x1150e6198>"
      ]
     },
     "execution_count": 51,
     "metadata": {},
     "output_type": "execute_result"
    },
    {
     "data": {
      "image/png": "[encoded data removed]",
      "text/plain": [
       "<matplotlib.figure.Figure at 0x114d57940>"
      ]
     },
     "metadata": {},
     "output_type": "display_data"
    }
   ],
   "source": [
    "from sklearn import decomposition\n",
    "pca = decomposition.PCA(n_components=2)\n",
    "\n",
    "pca.fit(df_dummies[['value_Bronze','value_Silver']])\n",
    "\n",
    "X = pca.transform(df_dummies[['value_Bronze','value_Silver']])\n",
    "import pylab as pl\n",
    "pl.scatter(X[:, 0], X[:, 1]) "
   ]
  },
  {
   "cell_type": "code",
   "execution_count": 56,
   "metadata": {},
   "outputs": [
    {
     "name": "stdout",
     "output_type": "stream",
     "text": [
      "cost: 60212.57720588236\n"
     ]
    }
   ],
   "source": [
    "kmeans_model = KMeans(n_clusters=3, random_state=1).fit(df_dummies.iloc[:, :])\n",
    " \n",
    "        # These are our fitted labels for clusters -- the first cluster has label 0, and the second has label 1.\n",
    "labels = kmeans_model.labels_\n",
    "        \n",
    "# Sum of distances of samples to their closest cluster center\n",
    "interia = kmeans_model.inertia_\n",
    "print ( \"cost:\", interia)"
   ]
  },
  {
   "cell_type": "code",
   "execution_count": 84,
   "metadata": {},
   "outputs": [
    {
     "data": {
      "text/plain": [
       "datetime.datetime(2018, 5, 10, 1, 29, 28, 674273)"
      ]
     },
     "execution_count": 84,
     "metadata": {},
     "output_type": "execute_result"
    }
   ],
   "source": [
    "import datetime\n",
    "\n",
    "datetime.date.today()  # Returns 2018-01-15\n",
    "\n",
    "datetime.datetime.now() # Returns 2018-01-15 09:00"
   ]
  },
  {
   "cell_type": "code",
   "execution_count": 132,
   "metadata": {},
   "outputs": [],
   "source": [
    "# df['created_at']\n",
    "# df['created_at'] = pd.to_datetime(df[\"created_at\"])\n",
    "# df['created_at']=df['created_at'].dt.tz_localize('UTC').dt.tz_convert('Asia/Bangkok')\n",
    "# df['created_at']\n",
    "df_time = pd.to_datetime(df[\"created_at\"])\n",
    "\n",
    "\n",
    "# dates = df_time.value_counts().keys().tolist()\n",
    "# order_dates = pd.to_datetime(dates, format='%d/%b/%Y:%H:%M:%S')\n",
    "# # print(type(ourdates))\n",
    "# list_dates = []\n",
    "# for i in order_dates:\n",
    "#     e =  i.strftime('%Y-%m-%d %H:%M:%S')\n",
    "#     list_dates.append(e)\n",
    "# list_dates"
   ]
  },
  {
   "cell_type": "code",
   "execution_count": 134,
   "metadata": {},
   "outputs": [
    {
     "name": "stdout",
     "output_type": "stream",
     "text": [
      "2018-03-09 19:40:49.597613+07:00\n",
      "2018-03-11 19:24:20.208554+07:00\n",
      "2018-03-08 17:22:43.758131+07:00\n",
      "2018-02-16 17:32:47.663227+07:00\n",
      "2018-02-16 17:27:10.620342+07:00\n",
      "2018-05-05 21:49:04.964515+07:00\n",
      "2018-03-10 17:10:15.121879+07:00\n",
      "2018-03-27 12:38:48.992842+07:00\n",
      "2018-02-22 18:34:58.805138+07:00\n",
      "2018-02-16 22:43:13.658583+07:00\n",
      "2018-03-28 17:14:15.349505+07:00\n",
      "2018-03-13 18:16:16.043015+07:00\n",
      "2018-02-21 21:45:52.766372+07:00\n",
      "2018-03-30 19:13:25.380181+07:00\n",
      "2018-02-21 21:50:17.088391+07:00\n",
      "2018-03-31 20:33:26.675444+07:00\n",
      "2018-02-21 19:28:18.270695+07:00\n",
      "2018-02-20 21:15:59.351315+07:00\n",
      "2018-02-21 17:14:49.638722+07:00\n",
      "2018-02-23 19:12:28.482028+07:00\n",
      "2018-04-04 19:20:20.867249+07:00\n",
      "2018-02-24 17:15:02.612896+07:00\n",
      "2018-02-24 17:50:55.521142+07:00\n",
      "2018-02-24 18:37:44.339390+07:00\n",
      "2018-02-24 18:54:30.960077+07:00\n",
      "2018-05-05 13:36:11.996510+07:00\n",
      "2018-02-26 20:30:49.673412+07:00\n",
      "2018-02-24 19:47:17.964588+07:00\n",
      "2018-02-27 19:30:43.956699+07:00\n",
      "2018-02-25 17:07:41.096364+07:00\n",
      "2018-03-08 17:25:08.086417+07:00\n",
      "2018-02-26 21:34:26.852885+07:00\n",
      "2018-02-25 18:24:48.406703+07:00\n",
      "2018-03-28 17:21:57.940586+07:00\n",
      "2018-02-25 19:49:17.497714+07:00\n",
      "2018-02-28 18:49:22.876136+07:00\n",
      "2018-03-09 21:00:12.502440+07:00\n",
      "2018-02-27 18:59:04.764784+07:00\n",
      "2018-03-10 17:22:36.382215+07:00\n",
      "2018-02-27 17:18:53.214244+07:00\n",
      "2018-02-27 20:22:43.935252+07:00\n",
      "2018-03-11 17:08:41.022200+07:00\n",
      "2018-02-27 21:45:13.867737+07:00\n",
      "2018-02-28 18:07:19.883205+07:00\n",
      "2018-02-27 19:11:55.109883+07:00\n",
      "2018-02-28 17:59:59.511371+07:00\n",
      "2018-02-28 20:47:57.336842+07:00\n",
      "2018-03-11 19:27:07.215195+07:00\n",
      "2018-03-30 19:23:01.449994+07:00\n",
      "2018-03-01 20:47:25.258643+07:00\n",
      "2018-03-02 21:19:55.818857+07:00\n",
      "2018-03-27 16:32:44.727857+07:00\n",
      "2018-03-08 17:26:01.916683+07:00\n",
      "2018-03-02 19:08:43.929398+07:00\n",
      "2018-03-09 21:02:13.177418+07:00\n",
      "2018-03-03 17:54:33.282534+07:00\n",
      "2018-03-11 17:26:12.534039+07:00\n",
      "2018-03-04 18:11:15.680760+07:00\n",
      "2018-03-03 19:59:17.147652+07:00\n",
      "2018-03-11 19:28:47.197722+07:00\n",
      "2018-03-02 18:19:17.647147+07:00\n",
      "2018-03-30 19:24:01.053454+07:00\n",
      "2018-03-28 17:22:46.067195+07:00\n",
      "2018-03-02 19:38:17.187791+07:00\n",
      "2018-03-03 21:49:37.880120+07:00\n",
      "2018-03-04 17:49:34.220936+07:00\n",
      "2018-03-04 17:33:34.710349+07:00\n",
      "2018-03-03 18:17:00.525931+07:00\n",
      "2018-03-03 19:08:59.955277+07:00\n",
      "2018-03-03 20:44:37.625173+07:00\n",
      "2018-03-04 19:07:01.755110+07:00\n",
      "2018-03-04 18:58:31.389577+07:00\n",
      "2018-03-05 19:10:10.913470+07:00\n",
      "2018-03-11 19:18:28.922940+07:00\n",
      "2018-03-14 19:26:20.304648+07:00\n",
      "2018-03-07 18:42:32.526390+07:00\n",
      "2018-03-06 18:58:20.984674+07:00\n",
      "2018-03-06 18:50:38.263252+07:00\n",
      "2018-05-06 17:11:44.135310+07:00\n",
      "2018-03-07 18:46:01.455961+07:00\n",
      "2018-03-09 21:03:38.623747+07:00\n",
      "2018-03-07 17:53:49.557558+07:00\n",
      "2018-03-07 18:06:11.628147+07:00\n",
      "2018-03-07 17:33:57.970773+07:00\n",
      "2018-03-07 17:15:25.539604+07:00\n",
      "2018-03-09 17:23:06.953123+07:00\n",
      "2018-03-07 19:00:29.438813+07:00\n",
      "2018-03-12 19:40:14.273864+07:00\n",
      "2018-03-13 17:30:53.259393+07:00\n",
      "2018-03-13 18:36:56.536732+07:00\n",
      "2018-03-13 18:31:32.846159+07:00\n",
      "2018-03-17 18:35:15.119046+07:00\n",
      "2018-03-18 16:55:20.175978+07:00\n",
      "2018-03-15 19:10:41.192490+07:00\n",
      "2018-03-16 18:35:16.093316+07:00\n",
      "2018-03-20 19:01:38.265499+07:00\n",
      "2018-03-18 18:31:02.282779+07:00\n",
      "2018-03-20 19:04:27.347693+07:00\n",
      "2018-03-13 18:33:48.641587+07:00\n",
      "2018-03-27 18:09:21.517563+07:00\n",
      "2018-05-06 17:20:30.395703+07:00\n",
      "2018-04-01 17:45:19.471651+07:00\n",
      "2018-03-31 17:10:41.655645+07:00\n",
      "2018-03-28 18:46:19.693177+07:00\n",
      "2018-04-01 19:06:09.584535+07:00\n",
      "2018-03-30 19:28:55.795877+07:00\n",
      "2018-04-01 16:29:26.755225+07:00\n",
      "2018-05-07 19:21:12.886342+07:00\n",
      "2018-04-04 19:22:22.647972+07:00\n",
      "2018-04-03 21:14:35.011916+07:00\n",
      "2018-04-03 18:32:54.228911+07:00\n",
      "2018-04-04 18:38:02.944278+07:00\n",
      "2018-04-08 18:11:58.457152+07:00\n",
      "2018-04-06 18:21:58.291638+07:00\n",
      "2018-04-05 19:25:24.475669+07:00\n",
      "2018-04-08 19:10:05.343820+07:00\n",
      "2018-04-08 19:34:35.970780+07:00\n",
      "2018-04-08 18:57:38.252389+07:00\n",
      "2018-03-18 17:40:15.750869+07:00\n",
      "2018-03-17 18:27:53.904961+07:00\n",
      "2018-03-13 19:46:04.513094+07:00\n",
      "2018-03-13 19:52:07.783214+07:00\n",
      "2018-03-13 21:21:09.083747+07:00\n",
      "2018-03-17 20:26:41.284745+07:00\n",
      "2018-03-16 18:45:07.169937+07:00\n",
      "2018-03-13 21:58:50.508186+07:00\n",
      "2018-03-18 17:29:51.590151+07:00\n",
      "2018-03-14 17:21:31.644979+07:00\n",
      "2018-03-17 19:36:26.475612+07:00\n",
      "2018-03-16 20:15:15.029490+07:00\n",
      "2018-03-17 18:13:27.883874+07:00\n",
      "2018-03-14 20:04:57.478176+07:00\n",
      "2018-03-18 18:27:31.376111+07:00\n",
      "2018-03-18 18:43:38.667133+07:00\n",
      "2018-03-18 17:39:29.565293+07:00\n",
      "2018-03-19 20:07:15.201091+07:00\n",
      "2018-03-19 17:15:43.675364+07:00\n",
      "2018-03-19 21:07:18.770104+07:00\n",
      "2018-05-08 17:34:26.017210+07:00\n",
      "2018-03-20 17:33:46.769324+07:00\n",
      "2018-03-28 19:13:40.575008+07:00\n",
      "2018-03-20 19:04:34.285864+07:00\n",
      "2018-03-20 19:57:46.490588+07:00\n",
      "2018-03-20 19:51:56.055030+07:00\n",
      "2018-03-20 19:39:16.078429+07:00\n",
      "2018-03-20 19:24:48.124440+07:00\n",
      "2018-03-22 21:15:25.169963+07:00\n",
      "2018-03-21 19:30:59.590086+07:00\n",
      "2018-03-21 16:53:42.739449+07:00\n",
      "2018-03-21 16:45:05.697974+07:00\n",
      "2018-03-21 19:17:07.964387+07:00\n",
      "2018-03-22 18:16:47.020955+07:00\n",
      "2018-03-20 19:39:31.178960+07:00\n",
      "2018-03-21 20:16:45.023115+07:00\n",
      "2018-03-21 19:46:22.714804+07:00\n",
      "2018-03-21 20:50:09.942386+07:00\n",
      "2018-03-21 19:25:10.182112+07:00\n",
      "2018-03-21 19:38:58.811810+07:00\n",
      "2018-03-21 21:09:19.688649+07:00\n",
      "2018-03-23 17:52:15.863423+07:00\n",
      "2018-03-23 19:15:10.992312+07:00\n",
      "2018-03-23 19:02:39.628882+07:00\n",
      "2018-03-23 19:29:59.520943+07:00\n",
      "2018-03-23 20:53:07.792117+07:00\n",
      "2018-03-28 19:17:24.131654+07:00\n",
      "2018-03-27 18:18:45.621804+07:00\n",
      "2018-04-01 17:59:27.188148+07:00\n",
      "2018-04-01 17:26:25.992281+07:00\n",
      "2018-03-30 20:35:18.583060+07:00\n",
      "2018-03-31 19:47:14.236610+07:00\n",
      "2018-05-06 18:40:32.125143+07:00\n",
      "2018-04-01 20:35:24.563211+07:00\n",
      "2018-04-04 19:32:07.993630+07:00\n",
      "2018-04-04 16:23:49.386573+07:00\n",
      "2018-04-06 18:03:16.089448+07:00\n",
      "2018-04-03 19:00:13.609817+07:00\n",
      "2018-04-04 18:54:01.392791+07:00\n",
      "2018-04-07 18:39:01.171207+07:00\n",
      "2018-04-08 18:11:37.889076+07:00\n",
      "2018-04-06 19:09:00.075106+07:00\n",
      "2018-04-08 18:32:53.245718+07:00\n",
      "2018-04-08 19:04:47.546916+07:00\n",
      "2018-04-08 19:47:43.246863+07:00\n",
      "2018-04-08 19:28:14.085145+07:00\n",
      "2018-04-09 17:24:55.717999+07:00\n",
      "2018-04-09 18:35:04.138947+07:00\n",
      "2018-04-09 20:08:49.903387+07:00\n",
      "2018-04-01 18:02:26.329580+07:00\n",
      "2018-04-20 17:55:18.531880+07:00\n",
      "2018-03-26 23:44:01.756815+07:00\n",
      "2018-03-27 00:05:55.328329+07:00\n",
      "2018-03-27 00:36:15.199828+07:00\n",
      "2018-03-27 01:28:01.239705+07:00\n",
      "2018-03-27 10:15:52.565968+07:00\n",
      "2018-03-27 19:07:54.698998+07:00\n",
      "2018-03-27 11:03:57.444783+07:00\n",
      "2018-03-27 11:05:22.185410+07:00\n",
      "2018-05-06 19:16:45.992903+07:00\n",
      "2018-03-27 11:11:17.368017+07:00\n",
      "2018-04-04 19:17:59.685649+07:00\n",
      "2018-03-29 19:31:12.592107+07:00\n",
      "2018-04-01 17:33:10.423328+07:00\n",
      "2018-03-31 20:23:54.604001+07:00\n",
      "2018-03-27 12:30:46.400868+07:00\n",
      "2018-04-02 19:31:41.964042+07:00\n",
      "2018-04-03 19:25:51.546809+07:00\n",
      "2018-04-04 18:29:25.609464+07:00\n",
      "2018-04-05 19:16:59.674814+07:00\n",
      "2018-04-06 18:04:47.775137+07:00\n",
      "2018-04-06 20:51:34.245102+07:00\n",
      "2018-04-07 20:09:36.092449+07:00\n",
      "2018-04-17 20:51:07.895956+07:00\n",
      "2018-04-22 20:46:50.930589+07:00\n",
      "2018-04-20 19:04:02.838330+07:00\n",
      "2018-04-20 20:44:24.492778+07:00\n",
      "2018-04-21 19:15:48.989362+07:00\n",
      "2018-04-22 17:51:53.714885+07:00\n",
      "2018-04-25 18:41:49.874293+07:00\n",
      "2018-04-24 17:05:36.042344+07:00\n",
      "2018-04-24 18:52:04.627457+07:00\n",
      "2018-04-24 20:54:12.138695+07:00\n",
      "2018-04-26 19:04:53.326509+07:00\n",
      "2018-04-25 20:12:22.761794+07:00\n",
      "2018-04-27 20:16:33.128050+07:00\n",
      "2018-04-27 19:41:13.678397+07:00\n",
      "2018-04-27 19:01:17.391068+07:00\n",
      "2018-04-28 18:28:44.807276+07:00\n",
      "2018-04-29 17:37:00.576696+07:00\n",
      "2018-04-29 19:20:43.473396+07:00\n",
      "2018-04-29 20:45:56.200991+07:00\n",
      "2018-04-29 21:24:00.159123+07:00\n",
      "2018-04-30 21:48:15.635251+07:00\n",
      "2018-05-02 19:19:05.696731+07:00\n",
      "2018-05-04 19:22:44.620093+07:00\n",
      "2018-04-20 19:56:54.346910+07:00\n",
      "2018-04-24 19:48:55.959501+07:00\n",
      "2018-04-21 17:09:58.388288+07:00\n",
      "2018-04-21 21:41:03.501250+07:00\n",
      "2018-04-27 18:33:58.589518+07:00\n",
      "2018-04-22 19:15:06.992059+07:00\n",
      "2018-04-23 17:17:05.078035+07:00\n",
      "2018-04-27 19:05:04.496478+07:00\n",
      "2018-04-25 18:55:45.601038+07:00\n",
      "2018-04-24 17:46:42.744541+07:00\n",
      "2018-04-27 20:18:11.315278+07:00\n",
      "2018-04-26 17:04:52.455378+07:00\n",
      "2018-04-27 19:52:04.267080+07:00\n",
      "2018-04-28 19:07:33.358223+07:00\n",
      "2018-04-29 18:04:11.665125+07:00\n",
      "2018-04-29 19:20:55.455333+07:00\n",
      "2018-04-29 20:55:30.390458+07:00\n",
      "2018-04-30 19:00:54.230826+07:00\n",
      "2018-05-02 19:55:45.119382+07:00\n",
      "2018-05-05 17:10:26.417952+07:00\n",
      "2018-05-04 19:43:17.117281+07:00\n",
      "2018-05-04 19:22:18.522094+07:00\n",
      "2018-04-20 17:15:14.270770+07:00\n",
      "2018-04-27 19:39:22.070835+07:00\n",
      "2018-04-21 18:52:45.622126+07:00\n",
      "2018-04-23 17:45:01.927232+07:00\n",
      "2018-04-24 19:50:16.852725+07:00\n",
      "2018-04-22 17:09:31.314627+07:00\n",
      "2018-04-25 18:29:12.799956+07:00\n",
      "2018-04-22 20:10:01.836462+07:00\n",
      "2018-04-24 18:12:48.324307+07:00\n",
      "2018-04-26 18:43:21.763246+07:00\n",
      "2018-04-27 19:01:12.261279+07:00\n",
      "2018-04-27 20:15:28.415690+07:00\n",
      "2018-04-25 19:58:54.473310+07:00\n",
      "2018-04-27 20:20:04.607189+07:00\n",
      "2018-04-29 17:07:43.986254+07:00\n",
      "2018-04-29 19:23:52.812869+07:00\n",
      "2018-04-29 18:09:04.343976+07:00\n",
      "2018-04-29 21:09:51.938681+07:00\n",
      "2018-04-30 20:52:18.494749+07:00\n",
      "2018-05-01 19:09:36.413704+07:00\n",
      "2018-05-02 19:46:28.248680+07:00\n",
      "2018-05-04 17:33:55.119212+07:00\n",
      "2018-05-01 19:32:45.370454+07:00\n",
      "2018-05-01 20:22:05.184326+07:00\n",
      "2018-05-08 18:39:04.867985+07:00\n",
      "2018-05-05 18:35:02.983713+07:00\n",
      "2018-05-06 19:34:53.120714+07:00\n",
      "2018-05-02 21:43:15.370744+07:00\n",
      "2018-05-06 20:56:07.247641+07:00\n",
      "2018-05-06 21:07:18.752355+07:00\n",
      "2018-05-08 19:53:05.203505+07:00\n",
      "2018-05-06 20:56:42.050010+07:00\n",
      "2018-05-05 19:48:03.952957+07:00\n",
      "2018-05-05 19:17:25.132330+07:00\n",
      "2018-05-05 20:54:18.699507+07:00\n",
      "2018-05-07 17:02:02.739040+07:00\n",
      "2018-05-06 20:43:18.732298+07:00\n",
      "2018-05-08 18:58:09.607325+07:00\n",
      "2018-05-08 21:02:38.350996+07:00\n"
     ]
    }
   ],
   "source": [
    "from datetime import date,timedelta\n",
    "import datetime\n",
    "\n",
    "date_del = datetime.datetime.now() - timedelta(days=0)\n",
    "for i in range(len(df_time)):\n",
    "    cvtz = df_time[i].replace(tzinfo=None)\n",
    "    time_length = date_del - cvtz\n",
    "    time_length.days\n",
    "\n",
    "    \n",
    "    \n",
    "    \n",
    "    #     print(df_time[i])\n",
    "#     df_time\n",
    "# last = Order.objects.filter(user__id=i['user']).order_by('-created_at')\n",
    "#         # print(\"datetime.now()\",datetime.now())\n",
    "# cvtz = last[0].created_at.replace(tzinfo=None)\n",
    "#         # print(datetime.now() - cvtz)\n",
    "\n",
    "\n"
   ]
  },
  {
   "cell_type": "code",
   "execution_count": 123,
   "metadata": {},
   "outputs": [
    {
     "data": {
      "text/plain": [
       "datetime.datetime(2018, 5, 10, 1, 55, 42, 222888)"
      ]
     },
     "execution_count": 123,
     "metadata": {},
     "output_type": "execute_result"
    }
   ],
   "source": [
    " datetime.datetime.now()"
   ]
  },
  {
   "cell_type": "code",
   "execution_count": 124,
   "metadata": {},
   "outputs": [
    {
     "data": {
      "text/plain": [
       "Timestamp('2018-05-08 21:02:38.350996')"
      ]
     },
     "execution_count": 124,
     "metadata": {},
     "output_type": "execute_result"
    }
   ],
   "source": [
    "date_del\n",
    "cvtz = df_time[len(df_time)-1].replace(tzinfo=None)\n",
    "cvtz"
   ]
  },
  {
   "cell_type": "code",
   "execution_count": 131,
   "metadata": {},
   "outputs": [
    {
     "data": {
      "text/plain": [
       "Timedelta('1 days 04:53:03.282063')"
      ]
     },
     "execution_count": 131,
     "metadata": {},
     "output_type": "execute_result"
    }
   ],
   "source": [
    "time_length = date_del - cvtz\n",
    "time_length"
   ]
  },
  {
   "cell_type": "code",
   "execution_count": 130,
   "metadata": {},
   "outputs": [
    {
     "data": {
      "text/plain": [
       "1"
      ]
     },
     "execution_count": 130,
     "metadata": {},
     "output_type": "execute_result"
    }
   ],
   "source": [
    "time_length.days"
   ]
  },
  {
   "cell_type": "code",
   "execution_count": null,
   "metadata": {},
   "outputs": [],
   "source": []
  }
 ],
 "metadata": {
  "kernelspec": {
   "display_name": "Python 3",
   "language": "python",
   "name": "python3"
  },
  "language_info": {
   "codemirror_mode": {
    "name": "ipython",
    "version": 3
   },
   "file_extension": ".py",
   "mimetype": "text/x-python",
   "name": "python",
   "nbconvert_exporter": "python",
   "pygments_lexer": "ipython3",
   "version": "3.6.4"
  }
 },
 "nbformat": 4,
 "nbformat_minor": 2
}
